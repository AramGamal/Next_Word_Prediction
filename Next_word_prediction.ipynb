{
  "cells": [
    {
      "cell_type": "markdown",
      "id": "djSxQ7PyGRVN",
      "metadata": {
        "id": "djSxQ7PyGRVN"
      },
      "source": [
        "## Import Libraries"
      ]
    },
    {
      "cell_type": "code",
      "execution_count": 1,
      "id": "db25fc8a",
      "metadata": {
        "id": "db25fc8a"
      },
      "outputs": [],
      "source": [
        "import tarfile\n",
        "import nltk\n",
        "import pandas as pd\n",
        "import gensim\n",
        "from gensim.models import Word2Vec\n",
        "from keras.preprocessing.text import Tokenizer\n",
        "from tensorflow.keras.utils import to_categorical\n",
        "from keras.models import Sequential\n",
        "from keras.layers import Embedding, LSTM, Dense\n",
        "from tensorflow.keras.preprocessing.sequence import pad_sequences\n",
        "import numpy as np\n",
        "import re\n",
        "import nltk"
      ]
    },
    {
      "cell_type": "code",
      "source": [
        "from google.colab import drive\n",
        "drive.mount('/content/drive')"
      ],
      "metadata": {
        "colab": {
          "base_uri": "https://localhost:8080/"
        },
        "id": "TxKGk3d3TNzI",
        "outputId": "64203cc3-ab03-421b-a65f-132ceccf8e9f"
      },
      "id": "TxKGk3d3TNzI",
      "execution_count": 2,
      "outputs": [
        {
          "output_type": "stream",
          "name": "stdout",
          "text": [
            "Mounted at /content/drive\n"
          ]
        }
      ]
    },
    {
      "cell_type": "markdown",
      "id": "00f28f8e",
      "metadata": {
        "id": "00f28f8e"
      },
      "source": [
        "## Loading and Prepare Data"
      ]
    },
    {
      "cell_type": "code",
      "execution_count": 4,
      "id": "674b6590",
      "metadata": {
        "collapsed": true,
        "id": "674b6590"
      },
      "outputs": [],
      "source": [
        "tar_path = \"/content/drive/MyDrive/enronsentv1.tar.gz\"\n",
        "with tarfile.open(tar_path, 'r:gz') as tar:\n",
        "    tar.extractall()"
      ]
    },
    {
      "cell_type": "code",
      "execution_count": 5,
      "id": "1a0a2d65",
      "metadata": {
        "id": "1a0a2d65",
        "scrolled": true
      },
      "outputs": [],
      "source": [
        "train_list=['00','01','02','03','04','05','06','07','08','09','10']\n",
        "train_data=[]\n",
        "for i in train_list:\n",
        "    with open(f\"enronsent//enronsent{i}\", 'r') as file:\n",
        "        file_contents = file.read()\n",
        "        train_data.extend(file_contents.split('\\n\\n'))\n",
        "train_data=pd.DataFrame(train_data,columns=['paragraph'])"
      ]
    },
    {
      "cell_type": "code",
      "execution_count": 6,
      "id": "66e11da8",
      "metadata": {
        "colab": {
          "base_uri": "https://localhost:8080/",
          "height": 423
        },
        "id": "66e11da8",
        "outputId": "5c736b02-ed9b-4869-b7a2-a9619a4fb677"
      },
      "outputs": [
        {
          "output_type": "execute_result",
          "data": {
            "text/plain": [
              "                                                paragraph\n",
              "0       \\nAttached  are two files that illustrate the ...\n",
              "1       As prices rose, supply increased and demand de...\n",
              "2       Financial  (6)\\n  West Desk  (14)\\nMid Market ...\n",
              "3       Share information about yourself, create your ...\n",
              "4                           - utility.xls\\n - utility.xls\n",
              "...                                                   ...\n",
              "119312  Those dates are fine for me.  Copies of the do...\n",
              "119313  Peter E Weidler\\n12/20/2000 08:57 AM\\nI have b...\n",
              "119314  Think there are different definitions of succe...\n",
              "119315  Cuiaba I is very much intertwined with the GTB...\n",
              "119316  I would like to meet with Jose, John, Joao Car...\n",
              "\n",
              "[119317 rows x 1 columns]"
            ],
            "text/html": [
              "\n",
              "  <div id=\"df-849e1da1-64c0-4baf-829f-acb753eabd77\">\n",
              "    <div class=\"colab-df-container\">\n",
              "      <div>\n",
              "<style scoped>\n",
              "    .dataframe tbody tr th:only-of-type {\n",
              "        vertical-align: middle;\n",
              "    }\n",
              "\n",
              "    .dataframe tbody tr th {\n",
              "        vertical-align: top;\n",
              "    }\n",
              "\n",
              "    .dataframe thead th {\n",
              "        text-align: right;\n",
              "    }\n",
              "</style>\n",
              "<table border=\"1\" class=\"dataframe\">\n",
              "  <thead>\n",
              "    <tr style=\"text-align: right;\">\n",
              "      <th></th>\n",
              "      <th>paragraph</th>\n",
              "    </tr>\n",
              "  </thead>\n",
              "  <tbody>\n",
              "    <tr>\n",
              "      <th>0</th>\n",
              "      <td>\\nAttached  are two files that illustrate the ...</td>\n",
              "    </tr>\n",
              "    <tr>\n",
              "      <th>1</th>\n",
              "      <td>As prices rose, supply increased and demand de...</td>\n",
              "    </tr>\n",
              "    <tr>\n",
              "      <th>2</th>\n",
              "      <td>Financial  (6)\\n  West Desk  (14)\\nMid Market ...</td>\n",
              "    </tr>\n",
              "    <tr>\n",
              "      <th>3</th>\n",
              "      <td>Share information about yourself, create your ...</td>\n",
              "    </tr>\n",
              "    <tr>\n",
              "      <th>4</th>\n",
              "      <td>- utility.xls\\n - utility.xls</td>\n",
              "    </tr>\n",
              "    <tr>\n",
              "      <th>...</th>\n",
              "      <td>...</td>\n",
              "    </tr>\n",
              "    <tr>\n",
              "      <th>119312</th>\n",
              "      <td>Those dates are fine for me.  Copies of the do...</td>\n",
              "    </tr>\n",
              "    <tr>\n",
              "      <th>119313</th>\n",
              "      <td>Peter E Weidler\\n12/20/2000 08:57 AM\\nI have b...</td>\n",
              "    </tr>\n",
              "    <tr>\n",
              "      <th>119314</th>\n",
              "      <td>Think there are different definitions of succe...</td>\n",
              "    </tr>\n",
              "    <tr>\n",
              "      <th>119315</th>\n",
              "      <td>Cuiaba I is very much intertwined with the GTB...</td>\n",
              "    </tr>\n",
              "    <tr>\n",
              "      <th>119316</th>\n",
              "      <td>I would like to meet with Jose, John, Joao Car...</td>\n",
              "    </tr>\n",
              "  </tbody>\n",
              "</table>\n",
              "<p>119317 rows × 1 columns</p>\n",
              "</div>\n",
              "      <button class=\"colab-df-convert\" onclick=\"convertToInteractive('df-849e1da1-64c0-4baf-829f-acb753eabd77')\"\n",
              "              title=\"Convert this dataframe to an interactive table.\"\n",
              "              style=\"display:none;\">\n",
              "        \n",
              "  <svg xmlns=\"http://www.w3.org/2000/svg\" height=\"24px\"viewBox=\"0 0 24 24\"\n",
              "       width=\"24px\">\n",
              "    <path d=\"M0 0h24v24H0V0z\" fill=\"none\"/>\n",
              "    <path d=\"M18.56 5.44l.94 2.06.94-2.06 2.06-.94-2.06-.94-.94-2.06-.94 2.06-2.06.94zm-11 1L8.5 8.5l.94-2.06 2.06-.94-2.06-.94L8.5 2.5l-.94 2.06-2.06.94zm10 10l.94 2.06.94-2.06 2.06-.94-2.06-.94-.94-2.06-.94 2.06-2.06.94z\"/><path d=\"M17.41 7.96l-1.37-1.37c-.4-.4-.92-.59-1.43-.59-.52 0-1.04.2-1.43.59L10.3 9.45l-7.72 7.72c-.78.78-.78 2.05 0 2.83L4 21.41c.39.39.9.59 1.41.59.51 0 1.02-.2 1.41-.59l7.78-7.78 2.81-2.81c.8-.78.8-2.07 0-2.86zM5.41 20L4 18.59l7.72-7.72 1.47 1.35L5.41 20z\"/>\n",
              "  </svg>\n",
              "      </button>\n",
              "      \n",
              "  <style>\n",
              "    .colab-df-container {\n",
              "      display:flex;\n",
              "      flex-wrap:wrap;\n",
              "      gap: 12px;\n",
              "    }\n",
              "\n",
              "    .colab-df-convert {\n",
              "      background-color: #E8F0FE;\n",
              "      border: none;\n",
              "      border-radius: 50%;\n",
              "      cursor: pointer;\n",
              "      display: none;\n",
              "      fill: #1967D2;\n",
              "      height: 32px;\n",
              "      padding: 0 0 0 0;\n",
              "      width: 32px;\n",
              "    }\n",
              "\n",
              "    .colab-df-convert:hover {\n",
              "      background-color: #E2EBFA;\n",
              "      box-shadow: 0px 1px 2px rgba(60, 64, 67, 0.3), 0px 1px 3px 1px rgba(60, 64, 67, 0.15);\n",
              "      fill: #174EA6;\n",
              "    }\n",
              "\n",
              "    [theme=dark] .colab-df-convert {\n",
              "      background-color: #3B4455;\n",
              "      fill: #D2E3FC;\n",
              "    }\n",
              "\n",
              "    [theme=dark] .colab-df-convert:hover {\n",
              "      background-color: #434B5C;\n",
              "      box-shadow: 0px 1px 3px 1px rgba(0, 0, 0, 0.15);\n",
              "      filter: drop-shadow(0px 1px 2px rgba(0, 0, 0, 0.3));\n",
              "      fill: #FFFFFF;\n",
              "    }\n",
              "  </style>\n",
              "\n",
              "      <script>\n",
              "        const buttonEl =\n",
              "          document.querySelector('#df-849e1da1-64c0-4baf-829f-acb753eabd77 button.colab-df-convert');\n",
              "        buttonEl.style.display =\n",
              "          google.colab.kernel.accessAllowed ? 'block' : 'none';\n",
              "\n",
              "        async function convertToInteractive(key) {\n",
              "          const element = document.querySelector('#df-849e1da1-64c0-4baf-829f-acb753eabd77');\n",
              "          const dataTable =\n",
              "            await google.colab.kernel.invokeFunction('convertToInteractive',\n",
              "                                                     [key], {});\n",
              "          if (!dataTable) return;\n",
              "\n",
              "          const docLinkHtml = 'Like what you see? Visit the ' +\n",
              "            '<a target=\"_blank\" href=https://colab.research.google.com/notebooks/data_table.ipynb>data table notebook</a>'\n",
              "            + ' to learn more about interactive tables.';\n",
              "          element.innerHTML = '';\n",
              "          dataTable['output_type'] = 'display_data';\n",
              "          await google.colab.output.renderOutput(dataTable, element);\n",
              "          const docLink = document.createElement('div');\n",
              "          docLink.innerHTML = docLinkHtml;\n",
              "          element.appendChild(docLink);\n",
              "        }\n",
              "      </script>\n",
              "    </div>\n",
              "  </div>\n",
              "  "
            ]
          },
          "metadata": {},
          "execution_count": 6
        }
      ],
      "source": [
        "train_data"
      ]
    },
    {
      "cell_type": "code",
      "execution_count": 7,
      "id": "56430318",
      "metadata": {
        "id": "56430318"
      },
      "outputs": [],
      "source": [
        "test_data=[]\n",
        "for i in range(11,16):\n",
        "    with open(f\"enronsent//enronsent{i}\", 'r') as file:\n",
        "        file_contents = file.read()\n",
        "        test_data.extend(file_contents.split('\\n\\n'))\n",
        "test_data=pd.DataFrame(test_data,columns=['paragraph'])"
      ]
    },
    {
      "cell_type": "code",
      "execution_count": 8,
      "id": "4d954745",
      "metadata": {
        "colab": {
          "base_uri": "https://localhost:8080/",
          "height": 423
        },
        "id": "4d954745",
        "outputId": "b7831c09-d77a-46f1-f2f2-66362822af7b"
      },
      "outputs": [
        {
          "output_type": "execute_result",
          "data": {
            "text/plain": [
              "                                               paragraph\n",
              "0      for how we are going to play these different o...\n",
              "1                     Please confirm your attendance -  \n",
              "2      Joe/Orlando - if I am missing a key participan...\n",
              "3      Rob - can you get someone to make copy of the ...\n",
              "4      Yvette - please get a large conference room fo...\n",
              "...                                                  ...\n",
              "61189  \\tTana Jones\\n\\t04/16/2001 03:11 PM\\n\\t\\t \\n\\t...\n",
              "61190  Cargill Ferrous International is setup correct...\n",
              "61191  Also, the Global SAP team (Cheryl Johnson) wou...\n",
              "61192                                         Best Rgds.\n",
              "61193  Samuel x3-9890 (GCP)\\nEnron Net Works _ Global...\n",
              "\n",
              "[61194 rows x 1 columns]"
            ],
            "text/html": [
              "\n",
              "  <div id=\"df-8c369d89-fdf3-4ef5-8eca-5f27767b28c7\">\n",
              "    <div class=\"colab-df-container\">\n",
              "      <div>\n",
              "<style scoped>\n",
              "    .dataframe tbody tr th:only-of-type {\n",
              "        vertical-align: middle;\n",
              "    }\n",
              "\n",
              "    .dataframe tbody tr th {\n",
              "        vertical-align: top;\n",
              "    }\n",
              "\n",
              "    .dataframe thead th {\n",
              "        text-align: right;\n",
              "    }\n",
              "</style>\n",
              "<table border=\"1\" class=\"dataframe\">\n",
              "  <thead>\n",
              "    <tr style=\"text-align: right;\">\n",
              "      <th></th>\n",
              "      <th>paragraph</th>\n",
              "    </tr>\n",
              "  </thead>\n",
              "  <tbody>\n",
              "    <tr>\n",
              "      <th>0</th>\n",
              "      <td>for how we are going to play these different o...</td>\n",
              "    </tr>\n",
              "    <tr>\n",
              "      <th>1</th>\n",
              "      <td>Please confirm your attendance -</td>\n",
              "    </tr>\n",
              "    <tr>\n",
              "      <th>2</th>\n",
              "      <td>Joe/Orlando - if I am missing a key participan...</td>\n",
              "    </tr>\n",
              "    <tr>\n",
              "      <th>3</th>\n",
              "      <td>Rob - can you get someone to make copy of the ...</td>\n",
              "    </tr>\n",
              "    <tr>\n",
              "      <th>4</th>\n",
              "      <td>Yvette - please get a large conference room fo...</td>\n",
              "    </tr>\n",
              "    <tr>\n",
              "      <th>...</th>\n",
              "      <td>...</td>\n",
              "    </tr>\n",
              "    <tr>\n",
              "      <th>61189</th>\n",
              "      <td>\\tTana Jones\\n\\t04/16/2001 03:11 PM\\n\\t\\t \\n\\t...</td>\n",
              "    </tr>\n",
              "    <tr>\n",
              "      <th>61190</th>\n",
              "      <td>Cargill Ferrous International is setup correct...</td>\n",
              "    </tr>\n",
              "    <tr>\n",
              "      <th>61191</th>\n",
              "      <td>Also, the Global SAP team (Cheryl Johnson) wou...</td>\n",
              "    </tr>\n",
              "    <tr>\n",
              "      <th>61192</th>\n",
              "      <td>Best Rgds.</td>\n",
              "    </tr>\n",
              "    <tr>\n",
              "      <th>61193</th>\n",
              "      <td>Samuel x3-9890 (GCP)\\nEnron Net Works _ Global...</td>\n",
              "    </tr>\n",
              "  </tbody>\n",
              "</table>\n",
              "<p>61194 rows × 1 columns</p>\n",
              "</div>\n",
              "      <button class=\"colab-df-convert\" onclick=\"convertToInteractive('df-8c369d89-fdf3-4ef5-8eca-5f27767b28c7')\"\n",
              "              title=\"Convert this dataframe to an interactive table.\"\n",
              "              style=\"display:none;\">\n",
              "        \n",
              "  <svg xmlns=\"http://www.w3.org/2000/svg\" height=\"24px\"viewBox=\"0 0 24 24\"\n",
              "       width=\"24px\">\n",
              "    <path d=\"M0 0h24v24H0V0z\" fill=\"none\"/>\n",
              "    <path d=\"M18.56 5.44l.94 2.06.94-2.06 2.06-.94-2.06-.94-.94-2.06-.94 2.06-2.06.94zm-11 1L8.5 8.5l.94-2.06 2.06-.94-2.06-.94L8.5 2.5l-.94 2.06-2.06.94zm10 10l.94 2.06.94-2.06 2.06-.94-2.06-.94-.94-2.06-.94 2.06-2.06.94z\"/><path d=\"M17.41 7.96l-1.37-1.37c-.4-.4-.92-.59-1.43-.59-.52 0-1.04.2-1.43.59L10.3 9.45l-7.72 7.72c-.78.78-.78 2.05 0 2.83L4 21.41c.39.39.9.59 1.41.59.51 0 1.02-.2 1.41-.59l7.78-7.78 2.81-2.81c.8-.78.8-2.07 0-2.86zM5.41 20L4 18.59l7.72-7.72 1.47 1.35L5.41 20z\"/>\n",
              "  </svg>\n",
              "      </button>\n",
              "      \n",
              "  <style>\n",
              "    .colab-df-container {\n",
              "      display:flex;\n",
              "      flex-wrap:wrap;\n",
              "      gap: 12px;\n",
              "    }\n",
              "\n",
              "    .colab-df-convert {\n",
              "      background-color: #E8F0FE;\n",
              "      border: none;\n",
              "      border-radius: 50%;\n",
              "      cursor: pointer;\n",
              "      display: none;\n",
              "      fill: #1967D2;\n",
              "      height: 32px;\n",
              "      padding: 0 0 0 0;\n",
              "      width: 32px;\n",
              "    }\n",
              "\n",
              "    .colab-df-convert:hover {\n",
              "      background-color: #E2EBFA;\n",
              "      box-shadow: 0px 1px 2px rgba(60, 64, 67, 0.3), 0px 1px 3px 1px rgba(60, 64, 67, 0.15);\n",
              "      fill: #174EA6;\n",
              "    }\n",
              "\n",
              "    [theme=dark] .colab-df-convert {\n",
              "      background-color: #3B4455;\n",
              "      fill: #D2E3FC;\n",
              "    }\n",
              "\n",
              "    [theme=dark] .colab-df-convert:hover {\n",
              "      background-color: #434B5C;\n",
              "      box-shadow: 0px 1px 3px 1px rgba(0, 0, 0, 0.15);\n",
              "      filter: drop-shadow(0px 1px 2px rgba(0, 0, 0, 0.3));\n",
              "      fill: #FFFFFF;\n",
              "    }\n",
              "  </style>\n",
              "\n",
              "      <script>\n",
              "        const buttonEl =\n",
              "          document.querySelector('#df-8c369d89-fdf3-4ef5-8eca-5f27767b28c7 button.colab-df-convert');\n",
              "        buttonEl.style.display =\n",
              "          google.colab.kernel.accessAllowed ? 'block' : 'none';\n",
              "\n",
              "        async function convertToInteractive(key) {\n",
              "          const element = document.querySelector('#df-8c369d89-fdf3-4ef5-8eca-5f27767b28c7');\n",
              "          const dataTable =\n",
              "            await google.colab.kernel.invokeFunction('convertToInteractive',\n",
              "                                                     [key], {});\n",
              "          if (!dataTable) return;\n",
              "\n",
              "          const docLinkHtml = 'Like what you see? Visit the ' +\n",
              "            '<a target=\"_blank\" href=https://colab.research.google.com/notebooks/data_table.ipynb>data table notebook</a>'\n",
              "            + ' to learn more about interactive tables.';\n",
              "          element.innerHTML = '';\n",
              "          dataTable['output_type'] = 'display_data';\n",
              "          await google.colab.output.renderOutput(dataTable, element);\n",
              "          const docLink = document.createElement('div');\n",
              "          docLink.innerHTML = docLinkHtml;\n",
              "          element.appendChild(docLink);\n",
              "        }\n",
              "      </script>\n",
              "    </div>\n",
              "  </div>\n",
              "  "
            ]
          },
          "metadata": {},
          "execution_count": 8
        }
      ],
      "source": [
        "test_data"
      ]
    },
    {
      "cell_type": "markdown",
      "id": "08e94c85",
      "metadata": {
        "id": "08e94c85"
      },
      "source": [
        "## Data preprocessing"
      ]
    },
    {
      "cell_type": "code",
      "execution_count": 9,
      "id": "4311e704",
      "metadata": {
        "id": "4311e704"
      },
      "outputs": [],
      "source": [
        "def preprocess(document):\n",
        "    # Convert to lowercase\n",
        "    text = document.lower()\n",
        "    # Remove URLs and email addresses and punct and non-alpha\n",
        "    text = re.sub(r'[^a-zA-Z\\s]', '', text)\n",
        "    text = re.sub(r'http\\S+|https\\S+|\\W+|\\s{2,}', lambda m: ' ' if m.group().isspace() else '', text)\n",
        "    return text"
      ]
    },
    {
      "cell_type": "code",
      "execution_count": 10,
      "id": "488ca190",
      "metadata": {
        "id": "488ca190"
      },
      "outputs": [],
      "source": [
        "import copy\n",
        "train_preprocessed_data = copy.deepcopy(train_data)\n",
        "train_preprocessed_data.paragraph=train_preprocessed_data.paragraph.apply(preprocess)"
      ]
    },
    {
      "cell_type": "code",
      "execution_count": 11,
      "id": "9e8c875e",
      "metadata": {
        "colab": {
          "base_uri": "https://localhost:8080/",
          "height": 36
        },
        "id": "9e8c875e",
        "outputId": "7c2ea0a2-14bc-4447-d83b-71099c773d3b"
      },
      "outputs": [
        {
          "output_type": "execute_result",
          "data": {
            "text/plain": [
              "'Enron-admin@FSDDataSvc.com on 09/06/2000 10:12:33 AM\\nExecutive Impact & Influence Program\\n* IMMEDIATE ACTION REQUIRED - Do Not Delete *'"
            ],
            "application/vnd.google.colaboratory.intrinsic+json": {
              "type": "string"
            }
          },
          "metadata": {},
          "execution_count": 11
        }
      ],
      "source": [
        "train_data.paragraph[5]"
      ]
    },
    {
      "cell_type": "code",
      "execution_count": 12,
      "id": "e5245552",
      "metadata": {
        "colab": {
          "base_uri": "https://localhost:8080/",
          "height": 36
        },
        "id": "e5245552",
        "outputId": "70c74078-4916-4d30-88c3-bd707ec9a5ac"
      },
      "outputs": [
        {
          "output_type": "execute_result",
          "data": {
            "text/plain": [
              "'enronadminfsddatasvccom on am executive impact influence program immediate action required do not delete '"
            ],
            "application/vnd.google.colaboratory.intrinsic+json": {
              "type": "string"
            }
          },
          "metadata": {},
          "execution_count": 12
        }
      ],
      "source": [
        "train_preprocessed_data.paragraph[5]"
      ]
    },
    {
      "cell_type": "code",
      "execution_count": 13,
      "id": "3552eae6",
      "metadata": {
        "id": "3552eae6"
      },
      "outputs": [],
      "source": [
        "test_preprocessed_data = copy.deepcopy(test_data)\n",
        "test_preprocessed_data.paragraph=test_preprocessed_data.paragraph.apply(preprocess)"
      ]
    },
    {
      "cell_type": "code",
      "execution_count": 14,
      "id": "dfb0ca0d",
      "metadata": {
        "colab": {
          "base_uri": "https://localhost:8080/",
          "height": 423
        },
        "id": "dfb0ca0d",
        "outputId": "e7f29ce6-a2bb-4175-8966-4c40fde7d209"
      },
      "outputs": [
        {
          "output_type": "execute_result",
          "data": {
            "text/plain": [
              "                                               paragraph\n",
              "0      for how we are going to play these different o...\n",
              "1                        please confirm your attendance \n",
              "2      joeorlando if i am missing a key participant p...\n",
              "3      rob can you get someone to make copy of the pp...\n",
              "4      yvette please get a large conference room for ...\n",
              "...                                                  ...\n",
              "61189                 tana jones pm samuel schott pm fyi\n",
              "61190  cargill ferrous international is setup correct...\n",
              "61191  also the global sap team cheryl johnson would ...\n",
              "61192                                          best rgds\n",
              "61193  samuel x gcp enron net works global data manag...\n",
              "\n",
              "[61194 rows x 1 columns]"
            ],
            "text/html": [
              "\n",
              "  <div id=\"df-0667eae5-da8b-4584-8e8a-66dd70ca2bb3\">\n",
              "    <div class=\"colab-df-container\">\n",
              "      <div>\n",
              "<style scoped>\n",
              "    .dataframe tbody tr th:only-of-type {\n",
              "        vertical-align: middle;\n",
              "    }\n",
              "\n",
              "    .dataframe tbody tr th {\n",
              "        vertical-align: top;\n",
              "    }\n",
              "\n",
              "    .dataframe thead th {\n",
              "        text-align: right;\n",
              "    }\n",
              "</style>\n",
              "<table border=\"1\" class=\"dataframe\">\n",
              "  <thead>\n",
              "    <tr style=\"text-align: right;\">\n",
              "      <th></th>\n",
              "      <th>paragraph</th>\n",
              "    </tr>\n",
              "  </thead>\n",
              "  <tbody>\n",
              "    <tr>\n",
              "      <th>0</th>\n",
              "      <td>for how we are going to play these different o...</td>\n",
              "    </tr>\n",
              "    <tr>\n",
              "      <th>1</th>\n",
              "      <td>please confirm your attendance</td>\n",
              "    </tr>\n",
              "    <tr>\n",
              "      <th>2</th>\n",
              "      <td>joeorlando if i am missing a key participant p...</td>\n",
              "    </tr>\n",
              "    <tr>\n",
              "      <th>3</th>\n",
              "      <td>rob can you get someone to make copy of the pp...</td>\n",
              "    </tr>\n",
              "    <tr>\n",
              "      <th>4</th>\n",
              "      <td>yvette please get a large conference room for ...</td>\n",
              "    </tr>\n",
              "    <tr>\n",
              "      <th>...</th>\n",
              "      <td>...</td>\n",
              "    </tr>\n",
              "    <tr>\n",
              "      <th>61189</th>\n",
              "      <td>tana jones pm samuel schott pm fyi</td>\n",
              "    </tr>\n",
              "    <tr>\n",
              "      <th>61190</th>\n",
              "      <td>cargill ferrous international is setup correct...</td>\n",
              "    </tr>\n",
              "    <tr>\n",
              "      <th>61191</th>\n",
              "      <td>also the global sap team cheryl johnson would ...</td>\n",
              "    </tr>\n",
              "    <tr>\n",
              "      <th>61192</th>\n",
              "      <td>best rgds</td>\n",
              "    </tr>\n",
              "    <tr>\n",
              "      <th>61193</th>\n",
              "      <td>samuel x gcp enron net works global data manag...</td>\n",
              "    </tr>\n",
              "  </tbody>\n",
              "</table>\n",
              "<p>61194 rows × 1 columns</p>\n",
              "</div>\n",
              "      <button class=\"colab-df-convert\" onclick=\"convertToInteractive('df-0667eae5-da8b-4584-8e8a-66dd70ca2bb3')\"\n",
              "              title=\"Convert this dataframe to an interactive table.\"\n",
              "              style=\"display:none;\">\n",
              "        \n",
              "  <svg xmlns=\"http://www.w3.org/2000/svg\" height=\"24px\"viewBox=\"0 0 24 24\"\n",
              "       width=\"24px\">\n",
              "    <path d=\"M0 0h24v24H0V0z\" fill=\"none\"/>\n",
              "    <path d=\"M18.56 5.44l.94 2.06.94-2.06 2.06-.94-2.06-.94-.94-2.06-.94 2.06-2.06.94zm-11 1L8.5 8.5l.94-2.06 2.06-.94-2.06-.94L8.5 2.5l-.94 2.06-2.06.94zm10 10l.94 2.06.94-2.06 2.06-.94-2.06-.94-.94-2.06-.94 2.06-2.06.94z\"/><path d=\"M17.41 7.96l-1.37-1.37c-.4-.4-.92-.59-1.43-.59-.52 0-1.04.2-1.43.59L10.3 9.45l-7.72 7.72c-.78.78-.78 2.05 0 2.83L4 21.41c.39.39.9.59 1.41.59.51 0 1.02-.2 1.41-.59l7.78-7.78 2.81-2.81c.8-.78.8-2.07 0-2.86zM5.41 20L4 18.59l7.72-7.72 1.47 1.35L5.41 20z\"/>\n",
              "  </svg>\n",
              "      </button>\n",
              "      \n",
              "  <style>\n",
              "    .colab-df-container {\n",
              "      display:flex;\n",
              "      flex-wrap:wrap;\n",
              "      gap: 12px;\n",
              "    }\n",
              "\n",
              "    .colab-df-convert {\n",
              "      background-color: #E8F0FE;\n",
              "      border: none;\n",
              "      border-radius: 50%;\n",
              "      cursor: pointer;\n",
              "      display: none;\n",
              "      fill: #1967D2;\n",
              "      height: 32px;\n",
              "      padding: 0 0 0 0;\n",
              "      width: 32px;\n",
              "    }\n",
              "\n",
              "    .colab-df-convert:hover {\n",
              "      background-color: #E2EBFA;\n",
              "      box-shadow: 0px 1px 2px rgba(60, 64, 67, 0.3), 0px 1px 3px 1px rgba(60, 64, 67, 0.15);\n",
              "      fill: #174EA6;\n",
              "    }\n",
              "\n",
              "    [theme=dark] .colab-df-convert {\n",
              "      background-color: #3B4455;\n",
              "      fill: #D2E3FC;\n",
              "    }\n",
              "\n",
              "    [theme=dark] .colab-df-convert:hover {\n",
              "      background-color: #434B5C;\n",
              "      box-shadow: 0px 1px 3px 1px rgba(0, 0, 0, 0.15);\n",
              "      filter: drop-shadow(0px 1px 2px rgba(0, 0, 0, 0.3));\n",
              "      fill: #FFFFFF;\n",
              "    }\n",
              "  </style>\n",
              "\n",
              "      <script>\n",
              "        const buttonEl =\n",
              "          document.querySelector('#df-0667eae5-da8b-4584-8e8a-66dd70ca2bb3 button.colab-df-convert');\n",
              "        buttonEl.style.display =\n",
              "          google.colab.kernel.accessAllowed ? 'block' : 'none';\n",
              "\n",
              "        async function convertToInteractive(key) {\n",
              "          const element = document.querySelector('#df-0667eae5-da8b-4584-8e8a-66dd70ca2bb3');\n",
              "          const dataTable =\n",
              "            await google.colab.kernel.invokeFunction('convertToInteractive',\n",
              "                                                     [key], {});\n",
              "          if (!dataTable) return;\n",
              "\n",
              "          const docLinkHtml = 'Like what you see? Visit the ' +\n",
              "            '<a target=\"_blank\" href=https://colab.research.google.com/notebooks/data_table.ipynb>data table notebook</a>'\n",
              "            + ' to learn more about interactive tables.';\n",
              "          element.innerHTML = '';\n",
              "          dataTable['output_type'] = 'display_data';\n",
              "          await google.colab.output.renderOutput(dataTable, element);\n",
              "          const docLink = document.createElement('div');\n",
              "          docLink.innerHTML = docLinkHtml;\n",
              "          element.appendChild(docLink);\n",
              "        }\n",
              "      </script>\n",
              "    </div>\n",
              "  </div>\n",
              "  "
            ]
          },
          "metadata": {},
          "execution_count": 14
        }
      ],
      "source": [
        "test_preprocessed_data"
      ]
    },
    {
      "cell_type": "markdown",
      "id": "Glczx61jGZLG",
      "metadata": {
        "id": "Glczx61jGZLG"
      },
      "source": [
        "## Split Data to (samples,Timesteps)"
      ]
    },
    {
      "cell_type": "code",
      "execution_count": 15,
      "id": "d54ff60a",
      "metadata": {
        "id": "d54ff60a"
      },
      "outputs": [],
      "source": [
        "def timeSteps(paragraph, timestep):\n",
        "    sequences = []\n",
        "    words = paragraph.split()\n",
        "    for i in range(len(words) - timestep):\n",
        "        seq = words[i:i + timestep]\n",
        "        sequences.append(seq)\n",
        "    return sequences"
      ]
    },
    {
      "cell_type": "code",
      "execution_count": 16,
      "id": "baf666b0",
      "metadata": {
        "colab": {
          "base_uri": "https://localhost:8080/"
        },
        "id": "baf666b0",
        "outputId": "1f44cd92-0479-4709-b18c-691dfc524d59"
      },
      "outputs": [
        {
          "output_type": "execute_result",
          "data": {
            "text/plain": [
              "(89662, 15)"
            ]
          },
          "metadata": {},
          "execution_count": 16
        }
      ],
      "source": [
        "timestep = 15\n",
        "sequences = []\n",
        "\n",
        "for index, row in train_preprocessed_data[40000:46000].iterrows():\n",
        "    paragraph = row['paragraph']\n",
        "    seqs= timeSteps(paragraph, timestep)\n",
        "    sequences.extend(seqs)\n",
        "\n",
        "dtrain=np.array(sequences)\n",
        "dtrain.shape"
      ]
    },
    {
      "cell_type": "code",
      "execution_count": 17,
      "id": "a21cf4ce",
      "metadata": {
        "colab": {
          "base_uri": "https://localhost:8080/"
        },
        "id": "a21cf4ce",
        "outputId": "2538ab43-8c72-4350-a24b-293fdc910120"
      },
      "outputs": [
        {
          "output_type": "execute_result",
          "data": {
            "text/plain": [
              "(20092, 15)"
            ]
          },
          "metadata": {},
          "execution_count": 17
        }
      ],
      "source": [
        "timestep = 15\n",
        "sequences = []\n",
        "\n",
        "for index, row in test_preprocessed_data[:2000].iterrows():\n",
        "    paragraph = row['paragraph']\n",
        "    seqs = timeSteps(paragraph, timestep)\n",
        "    sequences.extend(seqs)\n",
        "\n",
        "dtest = np.array(sequences)\n",
        "dtest.shape"
      ]
    },
    {
      "cell_type": "markdown",
      "id": "ub7WPg7kGkuH",
      "metadata": {
        "id": "ub7WPg7kGkuH"
      },
      "source": [
        "## Spliting the label from the data and apply Word2Vec"
      ]
    },
    {
      "cell_type": "code",
      "execution_count": 18,
      "id": "MwFyaXOdejL3",
      "metadata": {
        "id": "MwFyaXOdejL3"
      },
      "outputs": [],
      "source": [
        "train_input_sequences = []\n",
        "train_labels = []\n",
        "\n",
        "for row in dtrain:\n",
        "    train_input_sequences.append(' '.join(row[:-1]))\n",
        "    train_labels.append(row[-1])\n",
        "\n",
        "test_input_sequences = []\n",
        "test_labels = []\n",
        "\n",
        "for row in dtest:\n",
        "    test_input_sequences.append(' '.join(row[:-1]))\n",
        "    test_labels.append(row[-1])\n",
        "\n",
        "tokenizer = Tokenizer()\n",
        "tokenizer.fit_on_texts(train_input_sequences)\n",
        "train_input_sequences = tokenizer.texts_to_sequences(train_input_sequences)\n",
        "test_input_sequences = tokenizer.texts_to_sequences(test_input_sequences)\n",
        "\n",
        "max_sequence_length = max(len(seq) for seq in train_input_sequences)\n",
        "train_input_data = pad_sequences(train_input_sequences, maxlen=max_sequence_length)\n",
        "test_input_data = pad_sequences(test_input_sequences, maxlen=max_sequence_length)\n",
        "\n",
        "Word2Vec_model = Word2Vec(sentences=train_input_sequences, vector_size=300, window=5, min_count=1, workers=4)\n",
        "vocabulary_size = len(tokenizer.word_index) + 1\n",
        "\n",
        "# convert label data to onehot\n",
        "train_label_data = np.array(train_labels)\n",
        "test_label_data = np.array(test_labels)\n",
        "\n",
        "label_tokenizer = Tokenizer()\n",
        "label_tokenizer.fit_on_texts(train_label_data)\n",
        "train_label_sequences = label_tokenizer.texts_to_sequences(train_label_data)\n",
        "test_label_sequences = label_tokenizer.texts_to_sequences(test_label_data)\n",
        "num_classes = len(label_tokenizer.word_index) + 1\n",
        "\n",
        "train_label_data = np.zeros((len(train_label_sequences), num_classes))\n",
        "test_label_data = np.zeros((len(test_label_sequences), num_classes))\n",
        "\n",
        "for i, seq in enumerate(train_label_sequences):\n",
        "    train_label_data[i, seq] = 1\n",
        "\n",
        "for i, seq in enumerate(test_label_sequences):\n",
        "    test_label_data[i, seq] = 1"
      ]
    },
    {
      "cell_type": "markdown",
      "id": "mIw4FEmWHAWx",
      "metadata": {
        "id": "mIw4FEmWHAWx"
      },
      "source": [
        "## LSTM Model"
      ]
    },
    {
      "cell_type": "code",
      "execution_count": 19,
      "id": "82gymS5Ohzrn",
      "metadata": {
        "id": "82gymS5Ohzrn"
      },
      "outputs": [],
      "source": [
        "vocabulary_size = len(tokenizer.word_index) + 1\n",
        "embedding_matrix = np.zeros((vocabulary_size, 300))\n",
        "for word, i in tokenizer.word_index.items():\n",
        "    if word in Word2Vec_model.wv:\n",
        "        embedding_matrix[i] = Word2Vec_model.wv[word]"
      ]
    },
    {
      "cell_type": "code",
      "execution_count": 20,
      "id": "ErEFk76vh0SP",
      "metadata": {
        "colab": {
          "base_uri": "https://localhost:8080/"
        },
        "id": "ErEFk76vh0SP",
        "outputId": "c78ae043-4f7c-4b3b-aa43-63874fa99b5d"
      },
      "outputs": [
        {
          "output_type": "stream",
          "name": "stdout",
          "text": [
            "Model: \"sequential\"\n",
            "_________________________________________________________________\n",
            " Layer (type)                Output Shape              Param #   \n",
            "=================================================================\n",
            " embedding (Embedding)       (None, 14, 300)           2712900   \n",
            "                                                                 \n",
            " lstm (LSTM)                 (None, 512)               1665024   \n",
            "                                                                 \n",
            " dense (Dense)               (None, 7568)              3882384   \n",
            "                                                                 \n",
            "=================================================================\n",
            "Total params: 8,260,308\n",
            "Trainable params: 8,260,308\n",
            "Non-trainable params: 0\n",
            "_________________________________________________________________\n",
            "Epoch 1/100\n",
            "176/176 [==============================] - 41s 188ms/step - loss: 6.9841 - accuracy: 0.0510 - val_loss: 5.8343 - val_accuracy: 0.0633\n",
            "Epoch 2/100\n",
            "176/176 [==============================] - 17s 95ms/step - loss: 6.4740 - accuracy: 0.0724 - val_loss: 5.6366 - val_accuracy: 0.0815\n",
            "Epoch 3/100\n",
            "176/176 [==============================] - 11s 63ms/step - loss: 6.1202 - accuracy: 0.1013 - val_loss: 5.4939 - val_accuracy: 0.1017\n",
            "Epoch 4/100\n",
            "176/176 [==============================] - 10s 54ms/step - loss: 5.7814 - accuracy: 0.1221 - val_loss: 5.4161 - val_accuracy: 0.1117\n",
            "Epoch 5/100\n",
            "176/176 [==============================] - 8s 47ms/step - loss: 5.5960 - accuracy: 0.1371 - val_loss: 5.4522 - val_accuracy: 0.1147\n",
            "Epoch 6/100\n",
            "176/176 [==============================] - 11s 61ms/step - loss: 5.3226 - accuracy: 0.1544 - val_loss: 5.4441 - val_accuracy: 0.1175\n",
            "Epoch 7/100\n",
            "176/176 [==============================] - 9s 52ms/step - loss: 5.0961 - accuracy: 0.1689 - val_loss: 5.4698 - val_accuracy: 0.1208\n",
            "Epoch 8/100\n",
            "176/176 [==============================] - 9s 49ms/step - loss: 4.8894 - accuracy: 0.1840 - val_loss: 5.5141 - val_accuracy: 0.1214\n",
            "Epoch 9/100\n",
            "176/176 [==============================] - 9s 51ms/step - loss: 4.6905 - accuracy: 0.1980 - val_loss: 5.5637 - val_accuracy: 0.1216\n",
            "Epoch 10/100\n",
            "176/176 [==============================] - 8s 48ms/step - loss: 4.5072 - accuracy: 0.2122 - val_loss: 5.6201 - val_accuracy: 0.1207\n",
            "Epoch 11/100\n",
            "176/176 [==============================] - 8s 46ms/step - loss: 4.3094 - accuracy: 0.2295 - val_loss: 5.6728 - val_accuracy: 0.1242\n",
            "Epoch 12/100\n",
            "176/176 [==============================] - 9s 49ms/step - loss: 4.1427 - accuracy: 0.2454 - val_loss: 5.7446 - val_accuracy: 0.1221\n",
            "Epoch 13/100\n",
            "176/176 [==============================] - 9s 48ms/step - loss: 4.0229 - accuracy: 0.2580 - val_loss: 5.8129 - val_accuracy: 0.1253\n",
            "Epoch 14/100\n",
            "176/176 [==============================] - 9s 51ms/step - loss: 3.8168 - accuracy: 0.2819 - val_loss: 5.8723 - val_accuracy: 0.1221\n",
            "Epoch 15/100\n",
            "176/176 [==============================] - 8s 48ms/step - loss: 3.6527 - accuracy: 0.3047 - val_loss: 5.9446 - val_accuracy: 0.1217\n",
            "Epoch 16/100\n",
            "176/176 [==============================] - 9s 49ms/step - loss: 3.4966 - accuracy: 0.3258 - val_loss: 5.9915 - val_accuracy: 0.1216\n",
            "Epoch 17/100\n",
            "176/176 [==============================] - 9s 52ms/step - loss: 3.3554 - accuracy: 0.3480 - val_loss: 6.0693 - val_accuracy: 0.1189\n",
            "Epoch 18/100\n",
            "176/176 [==============================] - 9s 51ms/step - loss: 3.2420 - accuracy: 0.3638 - val_loss: 6.1297 - val_accuracy: 0.1218\n",
            "Epoch 19/100\n",
            "176/176 [==============================] - 8s 47ms/step - loss: 3.1014 - accuracy: 0.3853 - val_loss: 6.2173 - val_accuracy: 0.1218\n",
            "Epoch 20/100\n",
            "176/176 [==============================] - 8s 48ms/step - loss: 2.9766 - accuracy: 0.4053 - val_loss: 6.2813 - val_accuracy: 0.1227\n",
            "Epoch 21/100\n",
            "176/176 [==============================] - 9s 48ms/step - loss: 2.8600 - accuracy: 0.4233 - val_loss: 6.3486 - val_accuracy: 0.1202\n",
            "Epoch 22/100\n",
            "176/176 [==============================] - 8s 46ms/step - loss: 2.7592 - accuracy: 0.4411 - val_loss: 6.3992 - val_accuracy: 0.1197\n",
            "Epoch 23/100\n",
            "176/176 [==============================] - 9s 52ms/step - loss: 2.6505 - accuracy: 0.4587 - val_loss: 6.4731 - val_accuracy: 0.1214\n",
            "Epoch 24/100\n",
            "176/176 [==============================] - 8s 48ms/step - loss: 2.5503 - accuracy: 0.4772 - val_loss: 6.5441 - val_accuracy: 0.1176\n",
            "Epoch 25/100\n",
            "176/176 [==============================] - 8s 45ms/step - loss: 2.4549 - accuracy: 0.4931 - val_loss: 6.6097 - val_accuracy: 0.1158\n",
            "Epoch 26/100\n",
            "176/176 [==============================] - 8s 46ms/step - loss: 2.3620 - accuracy: 0.5113 - val_loss: 6.6844 - val_accuracy: 0.1154\n",
            "Epoch 27/100\n",
            "176/176 [==============================] - 8s 45ms/step - loss: 2.2703 - accuracy: 0.5288 - val_loss: 6.7509 - val_accuracy: 0.1161\n",
            "Epoch 28/100\n",
            "176/176 [==============================] - 9s 50ms/step - loss: 2.1895 - accuracy: 0.5439 - val_loss: 6.8194 - val_accuracy: 0.1162\n",
            "Epoch 29/100\n",
            "176/176 [==============================] - 9s 50ms/step - loss: 2.1038 - accuracy: 0.5603 - val_loss: 6.8968 - val_accuracy: 0.1138\n",
            "Epoch 30/100\n",
            "176/176 [==============================] - 8s 46ms/step - loss: 2.0221 - accuracy: 0.5755 - val_loss: 6.9655 - val_accuracy: 0.1155\n",
            "Epoch 31/100\n",
            "176/176 [==============================] - 8s 46ms/step - loss: 1.9413 - accuracy: 0.5924 - val_loss: 7.0258 - val_accuracy: 0.1170\n",
            "Epoch 32/100\n",
            "176/176 [==============================] - 9s 49ms/step - loss: 1.8665 - accuracy: 0.6075 - val_loss: 7.0969 - val_accuracy: 0.1142\n",
            "Epoch 33/100\n",
            "176/176 [==============================] - 8s 46ms/step - loss: 1.7903 - accuracy: 0.6234 - val_loss: 7.1577 - val_accuracy: 0.1148\n",
            "Epoch 34/100\n",
            "176/176 [==============================] - 8s 45ms/step - loss: 1.7256 - accuracy: 0.6359 - val_loss: 7.2390 - val_accuracy: 0.1127\n",
            "Epoch 35/100\n",
            "176/176 [==============================] - 9s 48ms/step - loss: 1.6525 - accuracy: 0.6520 - val_loss: 7.2916 - val_accuracy: 0.1128\n",
            "Epoch 36/100\n",
            "176/176 [==============================] - 8s 45ms/step - loss: 1.5830 - accuracy: 0.6670 - val_loss: 7.3859 - val_accuracy: 0.1130\n",
            "Epoch 37/100\n",
            "176/176 [==============================] - 9s 50ms/step - loss: 1.5190 - accuracy: 0.6810 - val_loss: 7.4350 - val_accuracy: 0.1116\n",
            "Epoch 38/100\n",
            "176/176 [==============================] - 8s 43ms/step - loss: 1.4642 - accuracy: 0.6937 - val_loss: 7.5061 - val_accuracy: 0.1109\n",
            "Epoch 39/100\n",
            "176/176 [==============================] - 8s 46ms/step - loss: 1.3919 - accuracy: 0.7090 - val_loss: 7.5607 - val_accuracy: 0.1125\n",
            "Epoch 40/100\n",
            "176/176 [==============================] - 8s 48ms/step - loss: 1.3272 - accuracy: 0.7239 - val_loss: 7.6480 - val_accuracy: 0.1117\n",
            "Epoch 41/100\n",
            "176/176 [==============================] - 8s 47ms/step - loss: 1.2861 - accuracy: 0.7305 - val_loss: 7.7244 - val_accuracy: 0.1069\n",
            "Epoch 42/100\n",
            "176/176 [==============================] - 9s 50ms/step - loss: 1.2269 - accuracy: 0.7447 - val_loss: 7.7842 - val_accuracy: 0.1072\n",
            "Epoch 43/100\n",
            "176/176 [==============================] - 8s 47ms/step - loss: 1.1719 - accuracy: 0.7558 - val_loss: 7.8741 - val_accuracy: 0.1122\n",
            "Epoch 44/100\n",
            "176/176 [==============================] - 8s 48ms/step - loss: 1.1048 - accuracy: 0.7725 - val_loss: 7.9357 - val_accuracy: 0.1080\n",
            "Epoch 45/100\n",
            "176/176 [==============================] - 8s 47ms/step - loss: 1.0462 - accuracy: 0.7867 - val_loss: 8.0187 - val_accuracy: 0.1050\n",
            "Epoch 46/100\n",
            "176/176 [==============================] - 8s 48ms/step - loss: 0.9923 - accuracy: 0.7987 - val_loss: 8.0782 - val_accuracy: 0.1074\n",
            "Epoch 47/100\n",
            "176/176 [==============================] - 8s 46ms/step - loss: 0.9402 - accuracy: 0.8097 - val_loss: 8.1499 - val_accuracy: 0.1040\n",
            "Epoch 48/100\n",
            "176/176 [==============================] - 8s 44ms/step - loss: 0.8911 - accuracy: 0.8223 - val_loss: 8.2253 - val_accuracy: 0.1015\n",
            "Epoch 49/100\n",
            "176/176 [==============================] - 9s 50ms/step - loss: 0.8418 - accuracy: 0.8341 - val_loss: 8.3005 - val_accuracy: 0.1018\n",
            "Epoch 50/100\n",
            "176/176 [==============================] - 8s 47ms/step - loss: 0.7929 - accuracy: 0.8457 - val_loss: 8.3750 - val_accuracy: 0.1031\n",
            "Epoch 51/100\n",
            "176/176 [==============================] - 8s 46ms/step - loss: 0.7448 - accuracy: 0.8574 - val_loss: 8.4435 - val_accuracy: 0.1031\n",
            "Epoch 52/100\n",
            "176/176 [==============================] - 8s 48ms/step - loss: 0.7037 - accuracy: 0.8671 - val_loss: 8.5178 - val_accuracy: 0.1031\n",
            "Epoch 53/100\n",
            "176/176 [==============================] - 9s 49ms/step - loss: 0.6580 - accuracy: 0.8777 - val_loss: 8.5984 - val_accuracy: 0.1040\n",
            "Epoch 54/100\n",
            "176/176 [==============================] - 8s 45ms/step - loss: 0.6144 - accuracy: 0.8881 - val_loss: 8.6592 - val_accuracy: 0.1035\n",
            "Epoch 55/100\n",
            "176/176 [==============================] - 8s 48ms/step - loss: 0.5778 - accuracy: 0.8965 - val_loss: 8.7429 - val_accuracy: 0.0990\n",
            "Epoch 56/100\n",
            "176/176 [==============================] - 8s 44ms/step - loss: 0.5357 - accuracy: 0.9074 - val_loss: 8.8098 - val_accuracy: 0.1014\n",
            "Epoch 57/100\n",
            "176/176 [==============================] - 8s 47ms/step - loss: 0.5000 - accuracy: 0.9164 - val_loss: 8.8780 - val_accuracy: 0.1014\n",
            "Epoch 58/100\n",
            "176/176 [==============================] - 8s 47ms/step - loss: 0.4644 - accuracy: 0.9242 - val_loss: 8.9581 - val_accuracy: 0.0987\n",
            "Epoch 59/100\n",
            "176/176 [==============================] - 8s 45ms/step - loss: 0.4311 - accuracy: 0.9316 - val_loss: 9.0348 - val_accuracy: 0.0979\n",
            "Epoch 60/100\n",
            "176/176 [==============================] - 8s 47ms/step - loss: 0.4007 - accuracy: 0.9381 - val_loss: 9.1084 - val_accuracy: 0.1001\n",
            "Epoch 61/100\n",
            "176/176 [==============================] - 8s 45ms/step - loss: 0.3663 - accuracy: 0.9465 - val_loss: 9.1794 - val_accuracy: 0.0991\n",
            "Epoch 62/100\n",
            "176/176 [==============================] - 8s 48ms/step - loss: 0.3383 - accuracy: 0.9525 - val_loss: 9.2597 - val_accuracy: 0.0980\n",
            "Epoch 63/100\n",
            "176/176 [==============================] - 8s 44ms/step - loss: 0.3101 - accuracy: 0.9589 - val_loss: 9.3160 - val_accuracy: 0.0979\n",
            "Epoch 64/100\n",
            "176/176 [==============================] - 8s 46ms/step - loss: 0.2831 - accuracy: 0.9641 - val_loss: 9.3874 - val_accuracy: 0.0965\n",
            "Epoch 65/100\n",
            "176/176 [==============================] - 8s 45ms/step - loss: 0.2578 - accuracy: 0.9692 - val_loss: 9.4746 - val_accuracy: 0.0990\n",
            "Epoch 66/100\n",
            "176/176 [==============================] - 8s 46ms/step - loss: 0.2430 - accuracy: 0.9724 - val_loss: 9.5300 - val_accuracy: 0.0979\n",
            "Epoch 67/100\n",
            "176/176 [==============================] - 8s 45ms/step - loss: 0.2202 - accuracy: 0.9763 - val_loss: 9.6103 - val_accuracy: 0.0971\n",
            "Epoch 68/100\n",
            "176/176 [==============================] - 8s 45ms/step - loss: 0.1969 - accuracy: 0.9810 - val_loss: 9.6534 - val_accuracy: 0.0986\n",
            "Epoch 69/100\n",
            "176/176 [==============================] - 8s 44ms/step - loss: 0.1856 - accuracy: 0.9822 - val_loss: 9.7397 - val_accuracy: 0.0984\n",
            "Epoch 70/100\n",
            "176/176 [==============================] - 9s 49ms/step - loss: 0.1610 - accuracy: 0.9868 - val_loss: 9.8096 - val_accuracy: 0.0960\n",
            "Epoch 71/100\n",
            "176/176 [==============================] - 8s 45ms/step - loss: 0.1449 - accuracy: 0.9887 - val_loss: 9.8787 - val_accuracy: 0.0976\n",
            "Epoch 72/100\n",
            "176/176 [==============================] - 9s 49ms/step - loss: 0.1294 - accuracy: 0.9913 - val_loss: 9.9303 - val_accuracy: 0.0982\n",
            "Epoch 73/100\n",
            "176/176 [==============================] - 8s 44ms/step - loss: 0.1168 - accuracy: 0.9928 - val_loss: 10.0080 - val_accuracy: 0.0962\n",
            "Epoch 74/100\n",
            "176/176 [==============================] - 8s 48ms/step - loss: 0.1078 - accuracy: 0.9936 - val_loss: 10.0630 - val_accuracy: 0.0951\n",
            "Epoch 75/100\n",
            "176/176 [==============================] - 8s 46ms/step - loss: 0.0947 - accuracy: 0.9951 - val_loss: 10.1408 - val_accuracy: 0.0937\n",
            "Epoch 76/100\n",
            "176/176 [==============================] - 8s 47ms/step - loss: 0.0836 - accuracy: 0.9962 - val_loss: 10.1959 - val_accuracy: 0.0943\n",
            "Epoch 77/100\n",
            "176/176 [==============================] - 8s 47ms/step - loss: 0.0774 - accuracy: 0.9966 - val_loss: 10.2524 - val_accuracy: 0.0935\n",
            "Epoch 78/100\n",
            "176/176 [==============================] - 9s 49ms/step - loss: 0.0707 - accuracy: 0.9970 - val_loss: 10.3183 - val_accuracy: 0.0971\n",
            "Epoch 79/100\n",
            "176/176 [==============================] - 8s 45ms/step - loss: 0.0657 - accuracy: 0.9974 - val_loss: 10.3892 - val_accuracy: 0.0959\n",
            "Epoch 80/100\n",
            "176/176 [==============================] - 8s 47ms/step - loss: 0.0633 - accuracy: 0.9974 - val_loss: 10.4485 - val_accuracy: 0.0950\n",
            "Epoch 81/100\n",
            "176/176 [==============================] - 8s 47ms/step - loss: 0.0552 - accuracy: 0.9980 - val_loss: 10.4903 - val_accuracy: 0.0948\n",
            "Epoch 82/100\n",
            "176/176 [==============================] - 8s 44ms/step - loss: 0.0481 - accuracy: 0.9982 - val_loss: 10.5722 - val_accuracy: 0.0964\n",
            "Epoch 83/100\n",
            "176/176 [==============================] - 8s 44ms/step - loss: 0.0455 - accuracy: 0.9982 - val_loss: 10.6333 - val_accuracy: 0.0948\n",
            "Epoch 84/100\n",
            "176/176 [==============================] - 8s 46ms/step - loss: 0.0399 - accuracy: 0.9984 - val_loss: 10.6772 - val_accuracy: 0.0964\n",
            "Epoch 85/100\n",
            "176/176 [==============================] - 8s 46ms/step - loss: 0.0350 - accuracy: 0.9986 - val_loss: 10.7476 - val_accuracy: 0.0972\n",
            "Epoch 86/100\n",
            "176/176 [==============================] - 8s 44ms/step - loss: 0.0305 - accuracy: 0.9987 - val_loss: 10.7892 - val_accuracy: 0.0963\n",
            "Epoch 87/100\n",
            "176/176 [==============================] - 8s 47ms/step - loss: 0.0315 - accuracy: 0.9986 - val_loss: 10.8388 - val_accuracy: 0.0966\n",
            "Epoch 88/100\n",
            "176/176 [==============================] - 8s 44ms/step - loss: 0.0722 - accuracy: 0.9921 - val_loss: 10.9115 - val_accuracy: 0.0876\n",
            "Epoch 89/100\n",
            "176/176 [==============================] - 9s 49ms/step - loss: 0.0818 - accuracy: 0.9923 - val_loss: 10.9550 - val_accuracy: 0.0927\n",
            "Epoch 90/100\n",
            "176/176 [==============================] - 8s 44ms/step - loss: 0.0423 - accuracy: 0.9974 - val_loss: 11.0228 - val_accuracy: 0.0950\n",
            "Epoch 91/100\n",
            "176/176 [==============================] - 8s 44ms/step - loss: 0.0252 - accuracy: 0.9986 - val_loss: 11.0893 - val_accuracy: 0.0964\n",
            "Epoch 92/100\n",
            "176/176 [==============================] - 8s 45ms/step - loss: 0.0200 - accuracy: 0.9988 - val_loss: 11.1261 - val_accuracy: 0.0949\n",
            "Epoch 93/100\n",
            "176/176 [==============================] - 8s 45ms/step - loss: 0.0172 - accuracy: 0.9989 - val_loss: 11.1676 - val_accuracy: 0.0958\n",
            "Epoch 94/100\n",
            "176/176 [==============================] - 8s 45ms/step - loss: 0.0154 - accuracy: 0.9990 - val_loss: 11.2113 - val_accuracy: 0.0970\n",
            "Epoch 95/100\n",
            "176/176 [==============================] - 8s 47ms/step - loss: 0.0144 - accuracy: 0.9989 - val_loss: 11.2536 - val_accuracy: 0.0971\n",
            "Epoch 96/100\n",
            "176/176 [==============================] - 8s 44ms/step - loss: 0.0134 - accuracy: 0.9988 - val_loss: 11.2866 - val_accuracy: 0.0962\n",
            "Epoch 97/100\n",
            "176/176 [==============================] - 8s 47ms/step - loss: 0.0126 - accuracy: 0.9990 - val_loss: 11.3216 - val_accuracy: 0.0966\n",
            "Epoch 98/100\n",
            "176/176 [==============================] - 8s 45ms/step - loss: 0.0118 - accuracy: 0.9989 - val_loss: 11.3637 - val_accuracy: 0.0964\n",
            "Epoch 99/100\n",
            "176/176 [==============================] - 8s 45ms/step - loss: 0.0112 - accuracy: 0.9989 - val_loss: 11.4106 - val_accuracy: 0.0971\n",
            "Epoch 100/100\n",
            "176/176 [==============================] - 8s 44ms/step - loss: 0.0108 - accuracy: 0.9989 - val_loss: 11.4444 - val_accuracy: 0.0966\n"
          ]
        },
        {
          "output_type": "execute_result",
          "data": {
            "text/plain": [
              "<keras.callbacks.History at 0x7f0b0409d960>"
            ]
          },
          "metadata": {},
          "execution_count": 20
        }
      ],
      "source": [
        "lstm_model = Sequential()\n",
        "lstm_model.add(Embedding(vocabulary_size, 300, weights=[embedding_matrix], input_length=max_sequence_length))\n",
        "lstm_model.add(LSTM(512))\n",
        "lstm_model.add(Dense(num_classes, activation='softmax'))\n",
        "lstm_model.compile(loss='categorical_crossentropy', optimizer='adam', metrics=['accuracy'])\n",
        "lstm_model.summary()\n",
        "\n",
        "lstm_model.fit(train_input_data, train_label_data, epochs=100, batch_size=512,validation_data=(test_input_data, test_label_data))"
      ]
    },
    {
      "cell_type": "code",
      "execution_count": 21,
      "id": "57VyndvFYMaY",
      "metadata": {
        "id": "57VyndvFYMaY"
      },
      "outputs": [],
      "source": [
        "lstm_model.save(\"lstm_model.h5\")"
      ]
    },
    {
      "cell_type": "markdown",
      "id": "_7aewrjGHIbI",
      "metadata": {
        "id": "_7aewrjGHIbI"
      },
      "source": [
        "## LSTM Evaluations"
      ]
    },
    {
      "cell_type": "code",
      "execution_count": 22,
      "id": "uVsb6qcRc5vX",
      "metadata": {
        "colab": {
          "base_uri": "https://localhost:8080/"
        },
        "id": "uVsb6qcRc5vX",
        "outputId": "640dbc7c-4aac-4e17-98bc-6c73cc5bca7f"
      },
      "outputs": [
        {
          "output_type": "stream",
          "name": "stdout",
          "text": [
            "628/628 [==============================] - 4s 6ms/step - loss: 11.4444 - accuracy: 0.0966\n",
            "Test Loss: 11.44437026977539\n",
            "Test Accuracy: 9.660561382770538\n"
          ]
        }
      ],
      "source": [
        "loss, accuracy = lstm_model.evaluate(test_input_data, test_label_data)\n",
        "\n",
        "print(\"Test Loss:\", loss)\n",
        "print(\"Test Accuracy:\", accuracy*100)"
      ]
    },
    {
      "cell_type": "code",
      "execution_count": 23,
      "id": "9lYiUPzxg5B5",
      "metadata": {
        "id": "9lYiUPzxg5B5"
      },
      "outputs": [],
      "source": [
        "from keras.models import load_model\n",
        "lstm_model=load_model('/content/lstm_model.h5')"
      ]
    },
    {
      "cell_type": "markdown",
      "id": "8h07zBvfGGDX",
      "metadata": {
        "id": "8h07zBvfGGDX"
      },
      "source": [
        "## Test Case 1"
      ]
    },
    {
      "cell_type": "code",
      "execution_count": 24,
      "id": "vdCfGDAxPKWY",
      "metadata": {
        "id": "vdCfGDAxPKWY",
        "colab": {
          "base_uri": "https://localhost:8080/"
        },
        "outputId": "d7831ac5-fa93-4ee3-ff2e-f3209a2f671b"
      },
      "outputs": [
        {
          "output_type": "stream",
          "name": "stdout",
          "text": [
            "Enter the next word (type 'exit' to terminate): my\n",
            "Is your next word: understanding\n",
            "Yes/ No /(type 'exit' to terminate): no\n",
            "Sorry, Enter the Correct word: name\n",
            "Your final Sentence is: my name\n",
            "Is your next word: is\n",
            "Yes/ No /(type 'exit' to terminate): yes\n",
            "Your final Sentence is: my name is\n",
            "Is your next word: our\n",
            "Yes/ No /(type 'exit' to terminate): no\n",
            "Sorry, Enter the Correct word: tom\n",
            "Your final Sentence is: my name is tom\n",
            "Is your next word: and\n",
            "Yes/ No /(type 'exit' to terminate): exit\n",
            "Your final Sentence is: my name is tom\n"
          ]
        }
      ],
      "source": [
        "sentence = \"\"\n",
        "word = input(\"Enter the next word (type 'exit' to terminate): \")\n",
        "sentence += \" \" + word\n",
        "\n",
        "while True:\n",
        "    # Convert the input sentence to a sequence\n",
        "    input_sequence = tokenizer.texts_to_sequences([sentence])\n",
        "    padded_sequence = pad_sequences(input_sequence, maxlen=max_sequence_length)\n",
        "\n",
        "    # Predict the next word\n",
        "    predicted_probabilities = lstm_model.predict(padded_sequence,verbose=False)[0]\n",
        "    predicted_index = np.argmax(predicted_probabilities)\n",
        "    predicted_word = label_tokenizer.index_word[predicted_index]\n",
        "\n",
        "    print(\"Is your next word:\", predicted_word)\n",
        "    user_feedback = input(\"Yes/ No /(type 'exit' to terminate): \")\n",
        "    if user_feedback.lower() == \"exit\":\n",
        "        break\n",
        "    elif user_feedback.lower() == \"no\":\n",
        "        word = input(\"Sorry, Enter the Correct word: \")\n",
        "        sentence += \" \" + word\n",
        "    else:\n",
        "      sentence += \" \" + predicted_word\n",
        "\n",
        "    print(\"Your final Sentence is:\", sentence.strip())\n",
        "print(\"Your final Sentence is:\", sentence.strip())"
      ]
    },
    {
      "cell_type": "markdown",
      "id": "hEOVdmmYGJVl",
      "metadata": {
        "id": "hEOVdmmYGJVl"
      },
      "source": [
        "## Test Case 2"
      ]
    },
    {
      "cell_type": "code",
      "execution_count": 25,
      "id": "eRM_KoN7g4Qa",
      "metadata": {
        "id": "eRM_KoN7g4Qa",
        "colab": {
          "base_uri": "https://localhost:8080/"
        },
        "outputId": "01413deb-d5f9-48f1-f853-25deb4572026"
      },
      "outputs": [
        {
          "name": "stdout",
          "output_type": "stream",
          "text": [
            "Enter the next word (type 'exit' to terminate): the food is \n",
            "1/1 [==============================] - 0s 19ms/step\n",
            "Is your next word: it\n",
            "Yes/No: no\n",
            "Sorry, Enter the next word / (type 'exit' to terminate): very\n",
            "Your final Sentence is: the food is  very\n",
            "1/1 [==============================] - 0s 18ms/step\n",
            "Is your next word: it\n",
            "Yes/No: no\n",
            "Sorry, Enter the next word / (type 'exit' to terminate): good\n",
            "Your final Sentence is: the food is  very good\n",
            "1/1 [==============================] - 0s 18ms/step\n",
            "Is your next word: send\n",
            "Yes/No: no\n",
            "Sorry, Enter the next word / (type 'exit' to terminate): exit\n"
          ]
        }
      ],
      "source": [
        "sentence = \"\"\n",
        "word = input(\"Enter the next word (type 'exit' to terminate): \")\n",
        "sentence += \" \" + word\n",
        "\n",
        "while True:\n",
        "    # Convert the input sentence to a sequence\n",
        "    input_sequence = tokenizer.texts_to_sequences([sentence])\n",
        "    padded_sequence = pad_sequences(input_sequence, maxlen=max_sequence_length)\n",
        "\n",
        "    # Predict the next word\n",
        "    predicted_probabilities = lstm_model.predict(padded_sequence)[0]\n",
        "    predicted_index = np.argmax(predicted_probabilities)\n",
        "    predicted_word = label_tokenizer.index_word[predicted_index]\n",
        "\n",
        "    print(\"Is your next word:\", predicted_word)\n",
        "    user_feedback = input(\"Yes/No: \")\n",
        "\n",
        "    if user_feedback.lower() == \"no\":\n",
        "        word = input(\"Sorry, Enter the next word / (type 'exit' to terminate): \")\n",
        "        if word.lower() == \"exit\":\n",
        "            break\n",
        "        sentence += \" \" + word\n",
        "    else:\n",
        "      sentence += \" \" + predicted_word\n",
        "\n",
        "    print(\"Your final Sentence is:\", sentence.strip())\n"
      ]
    }
  ],
  "metadata": {
    "accelerator": "GPU",
    "colab": {
      "gpuType": "T4",
      "provenance": []
    },
    "kernelspec": {
      "display_name": "Python 3",
      "name": "python3"
    },
    "language_info": {
      "codemirror_mode": {
        "name": "ipython",
        "version": 3
      },
      "file_extension": ".py",
      "mimetype": "text/x-python",
      "name": "python",
      "nbconvert_exporter": "python",
      "pygments_lexer": "ipython3",
      "version": "3.9.13"
    }
  },
  "nbformat": 4,
  "nbformat_minor": 5
}